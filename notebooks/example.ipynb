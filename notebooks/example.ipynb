{
 "cells": [
  {
   "cell_type": "code",
   "execution_count": 2,
   "metadata": {},
   "outputs": [
    {
     "name": "stdout",
     "output_type": "stream",
     "text": [
      "total 28\n",
      "drwxr-xr-x 1 jovyan root        4096 Aug 24 22:33 .\n",
      "drwxr-xr-x 1 root   root        4096 Aug 24 22:32 ..\n",
      "drwxr-xr-x 3 jovyan jupyteruser 4096 Aug 24 22:33 .ipython\n",
      "drwxr-xr-x 3 jovyan jupyteruser 4096 Aug 24 22:33 .local\n",
      "drwxr-xr-x 2 jovyan jupyteruser 4096 Aug 24 19:59 data\n",
      "drwxr-xr-x 2 jovyan jupyteruser 4096 Aug 24 21:24 notebooks\n"
     ]
    }
   ],
   "source": [
    "!ls -al ../"
   ]
  },
  {
   "cell_type": "code",
   "execution_count": 3,
   "metadata": {},
   "outputs": [
    {
     "name": "stdout",
     "output_type": "stream",
     "text": [
      "uid=1000(jovyan) gid=1000(jupyteruser) groups=1000(jupyteruser)\n"
     ]
    }
   ],
   "source": [
    "!id jovyan"
   ]
  },
  {
   "cell_type": "code",
   "execution_count": 4,
   "metadata": {},
   "outputs": [],
   "source": [
    "!touch test"
   ]
  }
 ],
 "metadata": {
  "kernelspec": {
   "display_name": "Python 3 (ipykernel)",
   "language": "python",
   "name": "python3"
  },
  "language_info": {
   "codemirror_mode": {
    "name": "ipython",
    "version": 3
   },
   "file_extension": ".py",
   "mimetype": "text/x-python",
   "name": "python",
   "nbconvert_exporter": "python",
   "pygments_lexer": "ipython3",
   "version": "3.11.4"
  },
  "orig_nbformat": 4
 },
 "nbformat": 4,
 "nbformat_minor": 2
}
